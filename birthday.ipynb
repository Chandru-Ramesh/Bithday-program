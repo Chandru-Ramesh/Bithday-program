{
  "nbformat": 4,
  "nbformat_minor": 0,
  "metadata": {
    "colab": {
      "name": "birthday.ipynb",
      "provenance": []
    },
    "kernelspec": {
      "name": "python3",
      "display_name": "Python 3"
    }
  },
  "cells": [
    {
      "cell_type": "code",
      "metadata": {
        "id": "SWnMJix-a54A",
        "colab_type": "code",
        "colab": {
          "base_uri": "https://localhost:8080/",
          "height": 135
        },
        "outputId": "26e928ac-fd6c-4b65-faba-cdd6c1755b4e"
      },
      "source": [
        "import random\n",
        "def has_duplicate():\n",
        " random_birthday()\n",
        " \n",
        "def probability():\n",
        "\n",
        "def random_birthday():\n",
        "  dob_list=[]\n",
        "  for i in range(23):\n",
        "   dob=random.randint(1,30),random.randint(1,12)\n",
        "   dob_list.append(dob)\n",
        "   return dob_list"
      ],
      "execution_count": 1,
      "outputs": [
        {
          "output_type": "error",
          "ename": "IndentationError",
          "evalue": "ignored",
          "traceback": [
            "\u001b[0;36m  File \u001b[0;32m\"<ipython-input-1-3ef0a3810554>\"\u001b[0;36m, line \u001b[0;32m4\u001b[0m\n\u001b[0;31m    def probability():\u001b[0m\n\u001b[0m      ^\u001b[0m\n\u001b[0;31mIndentationError\u001b[0m\u001b[0;31m:\u001b[0m expected an indented block\n"
          ]
        }
      ]
    },
    {
      "cell_type": "code",
      "metadata": {
        "id": "XucmP4Nrbpzw",
        "colab_type": "code",
        "colab": {
          "base_uri": "https://localhost:8080/",
          "height": 35
        },
        "outputId": "8458cdad-9485-4282-dec7-99511ba0159f"
      },
      "source": [
        "\n",
        "import random\n",
        "dob=random.randint(1,30),random.randint(1,12)\n",
        "print(dob)"
      ],
      "execution_count": 4,
      "outputs": [
        {
          "output_type": "stream",
          "text": [
            "(16, 8)\n"
          ],
          "name": "stdout"
        }
      ]
    }
  ]
}